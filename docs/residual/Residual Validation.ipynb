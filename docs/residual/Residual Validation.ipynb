{
 "cells": [
  {
   "cell_type": "markdown",
   "metadata": {},
   "source": [
    "# Residual Package Documentation:\n",
    "\n",
    "Theoretical information on the resdiual method for determining absolutes is available at: https://gi.copernicus.org/articles/6/419/2017/gi-6-419-2017.pdf\n",
    "\n",
    "The residual package breaks this method into object oriented pieces that fit into the USGS geomagnetism team's process of data collection, input and calculation of absolute values. Overlying structure of the package is summarized in the following diagram."
   ]
  },
  {
   "cell_type": "markdown",
   "metadata": {},
   "source": [
    "![Residual Package Structure Diagram](../images/residual_package.png)"
   ]
  },
  {
   "cell_type": "markdown",
   "metadata": {},
   "source": [
    "## Components:\n",
    "\n",
    "Notes about underlying sytax of diagram:\n",
    "* Tools are displayed as rectnagules\n",
    "* Objects are displayes as ovals\n",
    "* Attributes are dispayed without an encapsulating shape\n",
    "* Ratio notation indicates the amount of an object contained within another object, or the amount of objects required to utilize a tool\n",
    "\n",
    "### Tools:\n",
    "\n",
    "#### Spreadsheet Absolutes Factory:\n",
    "* Creates readings from legacy residual spreadsheets\n",
    "* One spreadsheet will contain one reading, thus only one reading will result from utilizing the tool\n",
    "* Allows for two types of precision: DM(degrees-minutes) or DMS(degrees-minutes-seconds)\n",
    "\n",
    "#### Web Absolutes Factory:\n",
    "* Pulls historical absolutes from the team's webservice\n",
    "* Number of output readings depend on the time range specified\n",
    "* Historical measurements will pertain to the Null method(no residuals, less measurements)\n",
    "* Precision(DM or DMS) is determined by instrument precision specified by employees inputing observations\n",
    "\n",
    "#### Calculation:\n",
    "* Takes one reading as input and produces absolute values\n",
    "* Requires that measurements contain ordinates(magnetometer readings) for each measurement excluding mark measurements\n",
    "* The calculate method wraps together several helper methods to store absolutes within the input residual object\n",
    "\n",
    "#### Calfile factory:\n",
    "* Takes any number of absolutes and produces a cal file\n",
    "* This method has no part in the calculation of absolutes\n",
    "* Files of this format are used by data processors to produce Quasi-Definitive and Definitive data\n",
    "\n",
    "### Objects:\n",
    "\n",
    "#### Reading:\n",
    "* Absolutes: List of 3 Absolute Objects\n",
    "* Azimuth: account for location of pier(magnetic reference point for observers, optional)\n",
    "* Hemisphere: 1 or -1 depending on observatory location\n",
    "* Measurements: List of Measurement Objects(optional)\n",
    "    * 26 Measurements for residual method\n",
    "    * 12 Measurements for null method\n",
    "* Metadata: defined for each observatory/set of measurements\n",
    "* Pier correction: account for correction in instrument orientation(optional)\n",
    "* Scale value: determined inside of calculations if not already specified(optional)\n",
    "\n",
    "#### Measurement:\n",
    "* Measurement type: Object holding supplemental information to calclulations\n",
    "* Angle: Observed value from instrument\n",
    "* Time: Time of observation from instrument\n",
    "* Ordinates: h, e, z and f values taken from magnetometer recordings(optional, but required for calculations)\n",
    "\n",
    "#### Measurement Type:\n",
    "* String identifier of measurement category(mark up/down, north up/down, west up/down, etc.)\n",
    "* Supplements for calculation:\n",
    "    * Direction\n",
    "    * Shift\n",
    "    * Meridian\n",
    "* Categorical sets\n",
    "    * Mark types\n",
    "    * Declination types\n",
    "    * Inclination types"
   ]
  },
  {
   "cell_type": "markdown",
   "metadata": {},
   "source": [
    "## Calculations for "
   ]
  },
  {
   "cell_type": "code",
   "execution_count": null,
   "metadata": {},
   "outputs": [],
   "source": []
  }
 ],
 "metadata": {
  "kernelspec": {
   "display_name": "geomag-algorithms",
   "language": "python",
   "name": "geomag-algorithms"
  },
  "language_info": {
   "codemirror_mode": {
    "name": "ipython",
    "version": 3
   },
   "file_extension": ".py",
   "mimetype": "text/x-python",
   "name": "python",
   "nbconvert_exporter": "python",
   "pygments_lexer": "ipython3",
   "version": "3.8.3"
  }
 },
 "nbformat": 4,
 "nbformat_minor": 4
}
